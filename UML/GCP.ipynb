{
 "cells": [
  {
   "cell_type": "code",
   "execution_count": 14,
   "metadata": {},
   "outputs": [],
   "source": [
    "import pandas as pd\n",
    "import numpy as np\n",
    "\n",
    "class Data_Handler:\n",
    "    \n",
    "    def __init__(self):\n",
    "        self.dflisting = None\n",
    "        self.dfprice = None\n",
    "        self.dfmerge = None\n",
    "        \n",
    "    def getDatas(self):\n",
    "        print(\"Récupération des données\")\n",
    "        listing = pd.read_csv(\"https://storage.googleapis.com/h3-data/listings_final.csv\", sep=\";\")\n",
    "        prices = pd.read_csv(\"https://storage.googleapis.com/h3-data/price_availability.csv\", sep=\";\")\n",
    "        self.dflisting, self.dfprice = listing, prices\n",
    "        return \"data loaded \\nFiles : \\n dflisting {} \\n dfprice{}\".format(listing.shape,prices.shape)\n",
    "        \n",
    "    def groupDatas(self):\n",
    "        print(\"Fusion des données\")\n",
    "        moyenne = self.dfprice.groupby('listing_id')['local_price'].mean()\n",
    "        self.dfmerge = pd.merge(moyenne, self.dflisting, on=\"listing_id\")\n",
    "        print (\"Données fusionnées\")\n",
    "        \n",
    "    def getAndGroup(self):\n",
    "        self.getDatas()\n",
    "        self.groupDatas()\n",
    "        print(\"Données récupérer et grouper\")\n",
    "        "
   ]
  },
  {
   "cell_type": "code",
   "execution_count": null,
   "metadata": {},
   "outputs": [
    {
     "name": "stdout",
     "output_type": "stream",
     "text": [
      "Récupération des données\n"
     ]
    }
   ],
   "source": [
    "data = Data_Handler()\n",
    "dfmerge = data.getAndGroup()\n",
    "%time"
   ]
  },
  {
   "cell_type": "code",
   "execution_count": null,
   "metadata": {},
   "outputs": [],
   "source": [
    "class FeatureRecipe :\n",
    "    \n",
    "    def __init__(self, data: DataFrame):\n",
    "        self.DataFrame = DataFrame\n",
    "        self.varcat = None\n",
    "        self.varfloat = None\n",
    "        self.varint = None\n",
    "    \n",
    "    def dropnan(self, threshold: float):\n",
    "        print(\"supprimer les colonnes avec NaN\")\n",
    "        nan = self.DataFrame.columns[df.isnull().any()]\n",
    "        for column in nan:\n",
    "            print(column, self.DataFrame[column].isnull().sum)\n",
    "            if self.DataFrame[column].isnull().sum()*100.0/df_shape[0] > 99:\n",
    "                self.DataFrame.drop(column,1, inplace=True)\n",
    "        print(\"Supprimer les colonnes avec 100% de Nan\")\n",
    "        \n",
    "            if self.DataFrame[column].isnull().sum*100.0/df_shape[0] > self.threshold\n",
    "        print(\"Supprimer les colonnes avec un taux de NaN égal ou supérieur ou égale -> thresold\")\n",
    "    def dropuseless(self):\n",
    "        print(\"Supprimer les colonnes inutiles\")\n",
    "        self.DataFrame.drop('Unnamed: 0',\n",
    "                            axis='columns',\n",
    "                            inplace=True)\n",
    "    \n",
    "    def dropduplicate():\n",
    "        \n",
    "    \n",
    "    def separatevariables():\n",
    "        for column in self.DataFrame.columns:\n",
    "            if self.DataFrame[column].dtypes == float:\n",
    "                self.varfloat.append(self.DataFrame[column])\n",
    "            elif self.DataFrame[column].dtypes == int:\n",
    "                self.varint.append(self.DataFrame[column])\n",
    "            else:\n",
    "                self.varcat.append(self.DataFrame[column])\n",
    "        \n",
    "        "
   ]
  },
  {
   "cell_type": "code",
   "execution_count": null,
   "metadata": {},
   "outputs": [],
   "source": []
  }
 ],
 "metadata": {
  "kernelspec": {
   "display_name": "Python 3",
   "language": "python",
   "name": "python3"
  },
  "language_info": {
   "codemirror_mode": {
    "name": "ipython",
    "version": 3
   },
   "file_extension": ".py",
   "mimetype": "text/x-python",
   "name": "python",
   "nbconvert_exporter": "python",
   "pygments_lexer": "ipython3",
   "version": "3.7.9"
  }
 },
 "nbformat": 4,
 "nbformat_minor": 4
}
