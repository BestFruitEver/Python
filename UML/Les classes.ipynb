{
 "cells": [
  {
   "cell_type": "markdown",
   "metadata": {},
   "source": [
    "### Les méthodes"
   ]
  },
  {
   "cell_type": "code",
   "execution_count": 21,
   "metadata": {},
   "outputs": [],
   "source": [
    "import datetime"
   ]
  },
  {
   "cell_type": "code",
   "execution_count": 1,
   "metadata": {},
   "outputs": [],
   "source": [
    "class DescriptionDeLobject :\n",
    "    \n",
    "    def la_methode(objet_en_cours):\n",
    "        print(\"cette objet est une méthode de la classe\")"
   ]
  },
  {
   "cell_type": "code",
   "execution_count": 10,
   "metadata": {},
   "outputs": [
    {
     "name": "stdout",
     "output_type": "stream",
     "text": [
      "cette objet est une méthode de la classe\n"
     ]
    }
   ],
   "source": [
    "Mon_Objet = DescriptionDeLobject()\n",
    "Mon_Objet.la_methode()"
   ]
  },
  {
   "cell_type": "code",
   "execution_count": 4,
   "metadata": {},
   "outputs": [],
   "source": [
    "class DescriptionDeLobjectBis : \n",
    "    def une_methode(objet_en_cours) :\n",
    "        return objet_en_cours"
   ]
  },
  {
   "cell_type": "code",
   "execution_count": 13,
   "metadata": {},
   "outputs": [
    {
     "data": {
      "text/plain": [
       "<__main__.DescriptionDeLobjectBis at 0x44c90a0>"
      ]
     },
     "execution_count": 13,
     "metadata": {},
     "output_type": "execute_result"
    }
   ],
   "source": [
    "Mon_ObjetBis = DescriptionDeLobjectBis()\n",
    "Mon_ObjetBis.une_methode()"
   ]
  },
  {
   "cell_type": "code",
   "execution_count": 16,
   "metadata": {},
   "outputs": [],
   "source": [
    "class UneClasse :\n",
    "    #une méthode\n",
    "    def methode(self):\n",
    "        print(\"un truc\")"
   ]
  },
  {
   "cell_type": "code",
   "execution_count": 17,
   "metadata": {},
   "outputs": [
    {
     "name": "stdout",
     "output_type": "stream",
     "text": [
      "un truc\n"
     ]
    }
   ],
   "source": [
    "MonObjet = UneClasse()\n",
    "MonObjet.methode()"
   ]
  },
  {
   "cell_type": "code",
   "execution_count": 18,
   "metadata": {},
   "outputs": [
    {
     "name": "stdout",
     "output_type": "stream",
     "text": [
      "L'objet à bien été crée !\n",
      "la méthode est appelé automatiquement à la déclaration\n"
     ]
    }
   ],
   "source": [
    "class UneAutreClass :\n",
    "    \"\"\"\n",
    "            un exemple de class pur illustrer la methode __init__\n",
    "    \"\"\"\n",
    "    def __init__(self) : \n",
    "        print(\"L'objet à bien été crée !\")\n",
    "        print(\"la méthode est appelé automatiquement à la déclaration\")\n",
    "\n",
    "x = UneAutreClass()"
   ]
  },
  {
   "cell_type": "markdown",
   "metadata": {},
   "source": [
    "### Exercice"
   ]
  },
  {
   "cell_type": "code",
   "execution_count": 27,
   "metadata": {},
   "outputs": [],
   "source": [
    "class Personne :\n",
    "    nom = str\n",
    "    prenom = str\n",
    "    dateNaissance = datetime\n",
    "    \n",
    "    def create(self, nom, prenom, date):\n",
    "        self.nom = nom\n",
    "        self.prenom = prenom\n",
    "        self.dateNaissance = date\n",
    "    \n",
    "    def afficher():\n",
    "        print (nom,\" \",prenom,\" \",date)   \n",
    "    \n",
    "    def CalculerAge():\n",
    "        age = age.today()\n",
    "        return today.year - date.year\n",
    "    "
   ]
  },
  {
   "cell_type": "code",
   "execution_count": 36,
   "metadata": {},
   "outputs": [
    {
     "ename": "TypeError",
     "evalue": "'Personne' object is not callable",
     "output_type": "error",
     "traceback": [
      "\u001b[1;31m---------------------------------------------------------------------------\u001b[0m",
      "\u001b[1;31mTypeError\u001b[0m                                 Traceback (most recent call last)",
      "\u001b[1;32m<ipython-input-36-12a9f0478ef5>\u001b[0m in \u001b[0;36m<module>\u001b[1;34m\u001b[0m\n\u001b[1;32m----> 1\u001b[1;33m \u001b[0mMaPersonne\u001b[0m \u001b[1;33m=\u001b[0m \u001b[0mPersonne\u001b[0m\u001b[1;33m(\u001b[0m\u001b[1;34m'Gauthier'\u001b[0m\u001b[1;33m,\u001b[0m\u001b[1;34m'Romain'\u001b[0m\u001b[1;33m,\u001b[0m\u001b[0mdatetime\u001b[0m\u001b[1;33m.\u001b[0m\u001b[0mdatetime\u001b[0m\u001b[1;33m(\u001b[0m\u001b[1;36m1996\u001b[0m\u001b[1;33m,\u001b[0m\u001b[1;36m11\u001b[0m\u001b[1;33m,\u001b[0m\u001b[1;36m23\u001b[0m\u001b[1;33m)\u001b[0m\u001b[1;33m)\u001b[0m\u001b[1;33m\u001b[0m\u001b[1;33m\u001b[0m\u001b[0m\n\u001b[0m",
      "\u001b[1;31mTypeError\u001b[0m: 'Personne' object is not callable"
     ]
    }
   ],
   "source": [
    "MaPersonne = Personne('Gauthier','Romain',datetime.datetime(1996,11,23))"
   ]
  },
  {
   "cell_type": "markdown",
   "metadata": {},
   "source": [
    "### Correction"
   ]
  },
  {
   "cell_type": "code",
   "execution_count": 32,
   "metadata": {},
   "outputs": [],
   "source": [
    "import datetime\n",
    "class Personne :\n",
    "    \"\"\"\n",
    "        Implementation d'une classe Personne\n",
    "        : param nom : string\n",
    "        : \n",
    "    \"\"\"\n",
    "    def __init__(self, nom, prenom, dateNaissance):\n",
    "        self.nom = nom\n",
    "        self.prenom = prenom\n",
    "        self.dateNaissance = dateNaissance\n",
    "    #une méthode pour afficher notre personne\n",
    "    def afficher(self) :\n",
    "        print(self.prenom,\" \", self.nom)\n",
    "    #une méthode pour calculer l'âge avec le module datetime\n",
    "    def calculerAge(self) -> int :\n",
    "        now = datetime.datetime.now()\n",
    "        return now.year - self.dateNaissance.year"
   ]
  },
  {
   "cell_type": "code",
   "execution_count": 33,
   "metadata": {},
   "outputs": [],
   "source": [
    "Personne = Personne('Gauthier', 'Romain', datetime.datetime(1996,11,23))"
   ]
  },
  {
   "cell_type": "code",
   "execution_count": 34,
   "metadata": {},
   "outputs": [
    {
     "data": {
      "text/plain": [
       "24"
      ]
     },
     "execution_count": 34,
     "metadata": {},
     "output_type": "execute_result"
    }
   ],
   "source": [
    "Personne.calculerAge()"
   ]
  },
  {
   "cell_type": "markdown",
   "metadata": {},
   "source": [
    "## 1.4.5 Protection des données\n",
    "\n",
    "## 1.4.5.1 Principe de l’encapsulation\n",
    "\n",
    "Masquer au maximum les champs de la classe pour restreindre leurs accès\n",
    "\n",
    "## 1.4.5.2 Objectif\n",
    "\n",
    "Protéget contrôler les valeurs des attributs"
   ]
  },
  {
   "cell_type": "markdown",
   "metadata": {},
   "source": [
    "Nom\t\tUML\t\tPython\t\t\t\t\t\tAccesibilité\n",
    "Public\t+\t\tAucun (par défaut)\n",
    "Protégé\t#\t\t_ avant le nom\t\t\t\t\tClasse dérivées\n",
    "Privé\t-\t\t__ avant le nom\t\t\t\tSeules les méthodes situés dans la class"
   ]
  },
  {
   "cell_type": "markdown",
   "metadata": {},
   "source": [
    "Getters :\n",
    "Offre un accès de lecture\n",
    "Aucun paramètre d’entrée (autre que self)\n",
    "\n",
    "Setters :\n",
    "Un paramètre d’entrée(en plus de self)"
   ]
  },
  {
   "cell_type": "code",
   "execution_count": 49,
   "metadata": {},
   "outputs": [],
   "source": [
    "class voiture :\n",
    "    def __init__(self):\n",
    "        self._roues = 4\n",
    "        \n",
    "    def _get_roues(self):\n",
    "        print(\"Récupération du nombre de roues\")\n",
    "        return self._roues\n",
    "    \n",
    "    def _set_roues(self, v):\n",
    "        print(\"changement du nombre de roues\")\n",
    "        self._roues = v\n",
    "    \n",
    "    roues = property(_get_roues, _set_roues)"
   ]
  },
  {
   "cell_type": "code",
   "execution_count": 50,
   "metadata": {},
   "outputs": [
    {
     "name": "stdout",
     "output_type": "stream",
     "text": [
      "Récupération du nombre de roues\n"
     ]
    },
    {
     "ename": "TypeError",
     "evalue": "'int' object is not callable",
     "output_type": "error",
     "traceback": [
      "\u001b[1;31m---------------------------------------------------------------------------\u001b[0m",
      "\u001b[1;31mTypeError\u001b[0m                                 Traceback (most recent call last)",
      "\u001b[1;32m<ipython-input-50-40c269dd3ce3>\u001b[0m in \u001b[0;36m<module>\u001b[1;34m\u001b[0m\n\u001b[0;32m      1\u001b[0m \u001b[0mma_voiture\u001b[0m \u001b[1;33m=\u001b[0m \u001b[0mvoiture\u001b[0m\u001b[1;33m(\u001b[0m\u001b[1;33m)\u001b[0m\u001b[1;33m\u001b[0m\u001b[1;33m\u001b[0m\u001b[0m\n\u001b[1;32m----> 2\u001b[1;33m \u001b[0mma_voiture\u001b[0m\u001b[1;33m.\u001b[0m\u001b[0mroues\u001b[0m\u001b[1;33m(\u001b[0m\u001b[1;36m5\u001b[0m\u001b[1;33m)\u001b[0m\u001b[1;33m\u001b[0m\u001b[1;33m\u001b[0m\u001b[0m\n\u001b[0m",
      "\u001b[1;31mTypeError\u001b[0m: 'int' object is not callable"
     ]
    }
   ],
   "source": [
    "ma_voiture = voiture()\n",
    "ma_voiture.roues(5)"
   ]
  },
  {
   "cell_type": "markdown",
   "metadata": {},
   "source": [
    "### ou bien avec @decorateur"
   ]
  },
  {
   "cell_type": "code",
   "execution_count": 40,
   "metadata": {},
   "outputs": [],
   "source": [
    "class voiture(object):\n",
    "    \n",
    "    def __init__(self):\n",
    "        self.roues=4\n",
    "        \n",
    "    @property\n",
    "    def roues(self):\n",
    "        print(\"Récupération du nombre de roues\")\n",
    "        return self._roues\n",
    "    @roues.setter\n",
    "    def roues(self, v):\n",
    "        print(\"Changement du nombre de roues\")\n",
    "        self.roues = v"
   ]
  },
  {
   "cell_type": "markdown",
   "metadata": {},
   "source": [
    "## 1.4.6 L'héritage"
   ]
  },
  {
   "cell_type": "code",
   "execution_count": 55,
   "metadata": {},
   "outputs": [
    {
     "name": "stdout",
     "output_type": "stream",
     "text": [
      "La voiture démarre\n",
      "La voiture de sport démarre\n"
     ]
    }
   ],
   "source": [
    "class Voiture :\n",
    "    \n",
    "    roues = 4\n",
    "    moteur = 1\n",
    "    \n",
    "    def __init__(self):\n",
    "        self.nom = \"A déterminer\"\n",
    "        \n",
    "    def allumer(self):\n",
    "        print(\"La voiture démarre\")\n",
    "\n",
    "class VoitureSport(Voiture):\n",
    "    \n",
    "    def __init__(self):\n",
    "        self.nom = \"Ferrari\"\n",
    "        \n",
    "    def allumer(self):\n",
    "    #On va chercher la méthode allumer de la classe voiture à laquelle on ajoute notre propre définition\n",
    "        Voiture.allumer(self)\n",
    "        print(\"La voiture de sport démarre\")\n",
    "        \n",
    "ma_voiture_sport = VoitureSport()\n",
    "ma_voiture_sport.allumer()"
   ]
  },
  {
   "cell_type": "code",
   "execution_count": 64,
   "metadata": {},
   "outputs": [],
   "source": [
    "class Vecteur :\n",
    "    def __init__(self, x, y):\n",
    "        self.x=x\n",
    "        self.y=y\n",
    "    #surcharge de l'opérateur +\n",
    "    def __add__(self, other:Vecteur) -> Vecteur:\n",
    "        return Vecteur(self.x +other.x, self.y + other.y)\n",
    "    #afficher\n",
    "    def __repr__(self):\n",
    "        return \"Vecteur({},{})\".format(self.x,self.y)\n",
    "        "
   ]
  },
  {
   "cell_type": "code",
   "execution_count": 65,
   "metadata": {},
   "outputs": [],
   "source": [
    "v1 = Vecteur(1,2)\n",
    "v2 = Vecteur(3,4)"
   ]
  },
  {
   "cell_type": "markdown",
   "metadata": {},
   "source": [
    "Le résultat s'affiche sous forme de vecteur car dans la méthode __add__ on à définit l'opération comme étant une opération sur un vecteur"
   ]
  },
  {
   "cell_type": "code",
   "execution_count": 66,
   "metadata": {},
   "outputs": [
    {
     "data": {
      "text/plain": [
       "Vecteur(4,6)"
      ]
     },
     "execution_count": 66,
     "metadata": {},
     "output_type": "execute_result"
    }
   ],
   "source": [
    "v1 + v2"
   ]
  },
  {
   "cell_type": "markdown",
   "metadata": {},
   "source": [
    "## Exercice"
   ]
  },
  {
   "cell_type": "markdown",
   "metadata": {},
   "source": [
    "### Le compte bancaire"
   ]
  },
  {
   "cell_type": "code",
   "execution_count": 4,
   "metadata": {},
   "outputs": [],
   "source": [
    "class CompteBancaire :\n",
    "    def __init__(self, nom=\"Dupont\", solde:int = 1000):\n",
    "        self.nom = nom\n",
    "        self.solde = solde\n",
    "        \n",
    "    def retrait(self, retrait):\n",
    "        self.solde = self.solde - retrait\n",
    "        \n",
    "    def depot(self, depot):\n",
    "        self.solde = self.solde + depot\n",
    "        \n",
    "    def afficher(self):\n",
    "        return\"Le solde du compte bancaire de{} est de {}\".format(self.nom,self.solde)"
   ]
  },
  {
   "cell_type": "code",
   "execution_count": 5,
   "metadata": {
    "scrolled": true
   },
   "outputs": [
    {
     "data": {
      "text/plain": [
       "'Le solde du compte bancaire deDuchmol est de 950'"
      ]
     },
     "execution_count": 5,
     "metadata": {},
     "output_type": "execute_result"
    }
   ],
   "source": [
    ">>> compte1 = CompteBancaire(\"Duchmol\", 800)\n",
    ">>> compte1.depot(350)\n",
    ">>> compte1.retrait(200)\n",
    ">>> compte1.afficher()"
   ]
  },
  {
   "cell_type": "code",
   "execution_count": 6,
   "metadata": {},
   "outputs": [
    {
     "data": {
      "text/plain": [
       "'Le solde du compte bancaire deDupont est de 1025'"
      ]
     },
     "execution_count": 6,
     "metadata": {},
     "output_type": "execute_result"
    }
   ],
   "source": [
    ">>> compte2 = CompteBancaire()\n",
    ">>> compte2.depot(25)\n",
    ">>> compte2.afficher()"
   ]
  },
  {
   "cell_type": "markdown",
   "metadata": {},
   "source": [
    "### La surcharge d'opérateur"
   ]
  },
  {
   "cell_type": "code",
   "execution_count": 7,
   "metadata": {},
   "outputs": [],
   "source": [
    "class Point():\n",
    "    x: float\n",
    "    y: float\n",
    "    z: float\n",
    "        \n",
    "    def __init__(self, x: float, y: float, z: float = None):\n",
    "        self.x = x\n",
    "        self.y = y\n",
    "        self.z = z\n",
    "        \n",
    "    def toString(self) -> str:\n",
    "        return self.__repr__()\n",
    "        \n",
    "    def __repr__(self) -> str:\n",
    "        return \"P({}, {}, {})\".format(self.x, self.y, self.z) if self.z != None else \"P({}, {})\".format(self.x, self.y) "
   ]
  },
  {
   "cell_type": "code",
   "execution_count": 9,
   "metadata": {},
   "outputs": [
    {
     "data": {
      "text/plain": [
       "'P(2, 3)'"
      ]
     },
     "execution_count": 9,
     "metadata": {},
     "output_type": "execute_result"
    }
   ],
   "source": [
    "P1=Point(2,3)\n",
    "P1.toString()"
   ]
  },
  {
   "cell_type": "code",
   "execution_count": 11,
   "metadata": {},
   "outputs": [
    {
     "data": {
      "text/plain": [
       "'P(1, -5, 6)'"
      ]
     },
     "execution_count": 11,
     "metadata": {},
     "output_type": "execute_result"
    }
   ],
   "source": [
    "P2=Point(1,-5,6)\n",
    "P2.toString()"
   ]
  },
  {
   "cell_type": "markdown",
   "metadata": {},
   "source": [
    "### L'héritage simple"
   ]
  },
  {
   "cell_type": "code",
   "execution_count": 63,
   "metadata": {},
   "outputs": [],
   "source": [
    "import datetime\n",
    "class DateNaissance :\n",
    "    \n",
    "    def __init__(self, jours, mois, annee):\n",
    "        self.jours = jours\n",
    "        self.mois = mois\n",
    "        self.annee = annee\n",
    "    \n",
    "    def ToString(self):\n",
    "        return \"{} / {} / {}\".format(self.jours,self.mois,self.annee)\n",
    "\n",
    "class Personne :\n",
    "    \n",
    "    def __init__(self, nom, prenom, dateNaissance):\n",
    "        self.nom = nom\n",
    "        self.prenom = prenom\n",
    "        self.dateNaissance = dateNaissance\n",
    "        \n",
    "    def afficher(self):\n",
    "        return\"Nom : {}, Prénom : {}, Date de naissance : {}\".format(self.nom,self.prenom,str(self.dateNaissance.ToString()))\n",
    "\n",
    "class Employe(Personne):\n",
    "    \n",
    "    def __init__(self, nom, prenom, dateNaissance, salaire):\n",
    "        Personne.__init__(self,nom,prenom,dateNaissance)\n",
    "        self.salaire = salaire\n",
    "    \n",
    "    def afficher(self):\n",
    "        print(\"Nom : {}, Prénom : {}, Date de naissance : {}, Salaire : {}\".format(self.nom, self.prenom, str(self.dateNaissance.ToString()),str(self.salaire)))\n",
    "\n",
    "class Chef(Employe):\n",
    "    \n",
    "    def __init__(self, service):\n",
    "        Employe.__init__(self, nom, prenom, dateNaissance, salaire, service)\n",
    "        self.service = service\n",
    "    \n",
    "    def afficher(self):\n",
    "        Employe.afficher()\n",
    "        return\"Service : {}\".format(self.service)\n",
    "    \n",
    "    \n",
    "        "
   ]
  },
  {
   "cell_type": "code",
   "execution_count": 64,
   "metadata": {},
   "outputs": [
    {
     "data": {
      "text/plain": [
       "'Nom : Ilyass, Prénom : Math, Date de naissance : 1 / 7 / 1982'"
      ]
     },
     "execution_count": 64,
     "metadata": {},
     "output_type": "execute_result"
    }
   ],
   "source": [
    "P=Personne(\"Ilyass\",\"Math\",DateNaissance(1,7,1982))\n",
    "P.afficher()"
   ]
  },
  {
   "cell_type": "code",
   "execution_count": 65,
   "metadata": {},
   "outputs": [
    {
     "name": "stdout",
     "output_type": "stream",
     "text": [
      "Nom : Ilyass, Prénom : Math, Date de naissance : 1 / 7 / 1985, Salaire : 7865.548\n"
     ]
    }
   ],
   "source": [
    "E=Employe(\"Ilyass\",\"Math\",DateNaissance(1,7,1985),7865.548)\n",
    "E.afficher()"
   ]
  },
  {
   "cell_type": "markdown",
   "metadata": {},
   "source": [
    "### Polymophisme"
   ]
  },
  {
   "cell_type": "markdown",
   "metadata": {},
   "source": [
    "lettre = tarif de base + 1.0 * poids (kilos) / 1000\n",
    "colis = 0.25 * volume (litres) + poids (kilos) 1.0 / 1000"
   ]
  },
  {
   "cell_type": "code",
   "execution_count": 56,
   "metadata": {},
   "outputs": [
    {
     "ename": "IndentationError",
     "evalue": "expected an indented block (<ipython-input-56-e16a128c0761>, line 33)",
     "output_type": "error",
     "traceback": [
      "\u001b[1;36m  File \u001b[1;32m\"<ipython-input-56-e16a128c0761>\"\u001b[1;36m, line \u001b[1;32m33\u001b[0m\n\u001b[1;33m    if self.mode == \"normal\" and self.form == \"A4\" :\u001b[0m\n\u001b[1;37m    ^\u001b[0m\n\u001b[1;31mIndentationError\u001b[0m\u001b[1;31m:\u001b[0m expected an indented block\n"
     ]
    }
   ],
   "source": [
    "class Courrier: \n",
    "    poids: float\n",
    "    mode: str\n",
    "    destination: str\n",
    "    expedition: str\n",
    "    def __init__(self, destination: str, expedition: str, poids: float, mode: str):\n",
    "        self.destination = destination\n",
    "        self.expedition = expedition\n",
    "        self.poids = poids\n",
    "        self.mode = mode\n",
    "        \n",
    "class Lettre(Courrier):\n",
    "    dimentionFormat: str\n",
    "    def __init__(self, destination: str, expedition: str, poids: float, mode: str, dimentionFormat: str):\n",
    "        super(Lettre, self).__init__(destination, expedition, poids, mode)\n",
    "        self.dimentionFormat = dimentionFormat\n",
    "    def calculTimbre(self):\n",
    "        print(\"Prix du timbre: {}\".format((2.5 if self.dimentionFormat == \"A4\" else 3.5) * self.poids / 1000 * (2 if self.mode == \"express\" else 1)))\n",
    "    def toString(self):\n",
    "        print(\"Adresse destination: {}\\nAdresse expedition: {}\\nPoids: {} gramme(s)\\nMode: {}\\nFormat: {}\".format(self.destination, self.expedition, self.poids, self.mode, self.dimentionFormat))\n",
    "        self.calculTimbre()\n",
    "        \n",
    "class Colis(Courrier):\n",
    "    volume: float\n",
    "    def __init__(self, destination: str, expedition: str, poids: float, mode: str, volume: float):\n",
    "        super(Colis, self).__init__(destination, expedition, poids, mode)\n",
    "        self.volume = volume\n",
    "    def calculTimbre(self):\n",
    "        print(\"Prix du timbre: {}\".format(0.25 * self.volume * self.poids / 1000 * (2 if self.mode == \"express\" else 1)))\n",
    "    def toString(self):\n",
    "        print(\"Adresse destination: {}\\nAdresse expedition: {}\\nPoids: {} gramme(s)\\nMode: {}\\nVolume: {} litre(s)\".format(self.destination, self.expedition, self.poids, self.mode, self.volume))\n",
    "        self.calculTimbre()"
   ]
  },
  {
   "cell_type": "code",
   "execution_count": 57,
   "metadata": {},
   "outputs": [
    {
     "ename": "NameError",
     "evalue": "name 'CalculTimbre' is not defined",
     "output_type": "error",
     "traceback": [
      "\u001b[1;31m---------------------------------------------------------------------------\u001b[0m",
      "\u001b[1;31mNameError\u001b[0m                                 Traceback (most recent call last)",
      "\u001b[1;32m<ipython-input-57-1481e05e8f92>\u001b[0m in \u001b[0;36m<module>\u001b[1;34m\u001b[0m\n\u001b[0;32m      1\u001b[0m \u001b[0mL1\u001b[0m\u001b[1;33m=\u001b[0m\u001b[0mLettre\u001b[0m\u001b[1;33m(\u001b[0m\u001b[1;34m\"Lille\"\u001b[0m\u001b[1;33m,\u001b[0m\u001b[1;34m\"Paris\"\u001b[0m\u001b[1;33m,\u001b[0m\u001b[1;36m80\u001b[0m\u001b[1;33m,\u001b[0m\u001b[1;34m\"normal\"\u001b[0m\u001b[1;33m,\u001b[0m\u001b[1;34m\"A4\"\u001b[0m\u001b[1;33m)\u001b[0m\u001b[1;33m\u001b[0m\u001b[1;33m\u001b[0m\u001b[0m\n\u001b[1;32m----> 2\u001b[1;33m \u001b[0mL1\u001b[0m\u001b[1;33m.\u001b[0m\u001b[0mToString\u001b[0m\u001b[1;33m(\u001b[0m\u001b[1;33m)\u001b[0m\u001b[1;33m\u001b[0m\u001b[1;33m\u001b[0m\u001b[0m\n\u001b[0m",
      "\u001b[1;32m<ipython-input-54-b04ac46cb1e1>\u001b[0m in \u001b[0;36mToString\u001b[1;34m(self)\u001b[0m\n\u001b[0;32m     19\u001b[0m \u001b[1;33m\u001b[0m\u001b[0m\n\u001b[0;32m     20\u001b[0m     \u001b[1;32mdef\u001b[0m \u001b[0mToString\u001b[0m\u001b[1;33m(\u001b[0m\u001b[0mself\u001b[0m\u001b[1;33m)\u001b[0m\u001b[1;33m:\u001b[0m\u001b[1;33m\u001b[0m\u001b[1;33m\u001b[0m\u001b[0m\n\u001b[1;32m---> 21\u001b[1;33m         \u001b[1;32mreturn\u001b[0m \u001b[1;34m\"Adresse de destination : {}, Adresse expédition : {}, poids : {}, Mode : {}, Format : {}, Prix du timbre : {}\"\u001b[0m\u001b[1;33m.\u001b[0m\u001b[0mformat\u001b[0m\u001b[1;33m(\u001b[0m\u001b[0mself\u001b[0m\u001b[1;33m.\u001b[0m\u001b[0mdestination\u001b[0m\u001b[1;33m,\u001b[0m\u001b[0mself\u001b[0m\u001b[1;33m.\u001b[0m\u001b[0mexpedition\u001b[0m\u001b[1;33m,\u001b[0m\u001b[0mself\u001b[0m\u001b[1;33m.\u001b[0m\u001b[0mpoids\u001b[0m\u001b[1;33m,\u001b[0m\u001b[0mself\u001b[0m\u001b[1;33m.\u001b[0m\u001b[0mmode\u001b[0m\u001b[1;33m,\u001b[0m\u001b[0mself\u001b[0m\u001b[1;33m.\u001b[0m\u001b[0mform\u001b[0m\u001b[1;33m,\u001b[0m\u001b[0mstr\u001b[0m\u001b[1;33m(\u001b[0m\u001b[0mCalculTimbre\u001b[0m\u001b[1;33m(\u001b[0m\u001b[1;33m)\u001b[0m\u001b[1;33m)\u001b[0m\u001b[1;33m)\u001b[0m\u001b[1;33m\u001b[0m\u001b[1;33m\u001b[0m\u001b[0m\n\u001b[0m\u001b[0;32m     22\u001b[0m \u001b[1;33m\u001b[0m\u001b[0m\n\u001b[0;32m     23\u001b[0m \u001b[1;32mclass\u001b[0m \u001b[0mColis\u001b[0m \u001b[1;33m:\u001b[0m\u001b[1;33m\u001b[0m\u001b[1;33m\u001b[0m\u001b[0m\n",
      "\u001b[1;31mNameError\u001b[0m: name 'CalculTimbre' is not defined"
     ]
    }
   ],
   "source": [
    "L1=Lettre(\"Lille\",\"Paris\",80,\"normal\",\"A4\")\n",
    "L1.ToString()"
   ]
  },
  {
   "cell_type": "code",
   "execution_count": null,
   "metadata": {},
   "outputs": [],
   "source": []
  }
 ],
 "metadata": {
  "kernelspec": {
   "display_name": "Python 3",
   "language": "python",
   "name": "python3"
  },
  "language_info": {
   "codemirror_mode": {
    "name": "ipython",
    "version": 3
   },
   "file_extension": ".py",
   "mimetype": "text/x-python",
   "name": "python",
   "nbconvert_exporter": "python",
   "pygments_lexer": "ipython3",
   "version": "3.7.9"
  }
 },
 "nbformat": 4,
 "nbformat_minor": 4
}
