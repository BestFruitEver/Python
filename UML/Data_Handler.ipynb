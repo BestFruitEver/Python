{
 "cells": [
  {
   "cell_type": "code",
   "execution_count": 1,
   "metadata": {},
   "outputs": [],
   "source": [
    "import pandas as pd\n",
    "\n",
    "class Data_Handler :\n",
    "    \n",
    "    def __init__(self, dflisting, dfprice, dfmerge):\n",
    "        self.dflisting = None\n",
    "        self.dfprice = None\n",
    "        self.dfmerge = None\n",
    "        \n",
    "    def getDatas(self, dflisting, dfprice):\n",
    "        self.dflisting = pd.read_csv(\"https://storage.googleapis.com/h3-data/listings_final.csv\", sep=\";\")\n",
    "        self.dfprice = pd.read_csv(\"https://storage.googleapis.com/h3-data/price_availability.csv\", sep=\";\")\n",
    "        \n",
    "    def groupDatas(self, df3):\n",
    "        moyenne = dflisting.groupby('listing_id')['local_price'].mean()\n",
    "        self.dfmerge = dfprice.merge(moyenne, on=\"listing_id\")\n",
    "        \n",
    "    def getAndGroup(self):\n",
    "        self.getDatas()\n",
    "        self.groupDatas()\n",
    "        print(self.dfmerge.shape)\n",
    "        "
   ]
  },
  {
   "cell_type": "code",
   "execution_count": null,
   "metadata": {},
   "outputs": [],
   "source": []
  },
  {
   "cell_type": "code",
   "execution_count": null,
   "metadata": {},
   "outputs": [],
   "source": []
  }
 ],
 "metadata": {
  "kernelspec": {
   "display_name": "Python 3",
   "language": "python",
   "name": "python3"
  },
  "language_info": {
   "codemirror_mode": {
    "name": "ipython",
    "version": 3
   },
   "file_extension": ".py",
   "mimetype": "text/x-python",
   "name": "python",
   "nbconvert_exporter": "python",
   "pygments_lexer": "ipython3",
   "version": "3.7.9"
  }
 },
 "nbformat": 4,
 "nbformat_minor": 4
}
