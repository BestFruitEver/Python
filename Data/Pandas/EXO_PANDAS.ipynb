{
 "cells": [
  {
   "cell_type": "code",
   "execution_count": 173,
   "metadata": {},
   "outputs": [],
   "source": [
    "import pandas as pd\n",
    "import datetime as dt\n",
    "path = \"https://bit.ly/vintage-auctions\"\n",
    "\n",
    "df=pd.read_csv(path)"
   ]
  },
  {
   "cell_type": "code",
   "execution_count": 174,
   "metadata": {},
   "outputs": [
    {
     "data": {
      "text/plain": [
       "(1000, 6)"
      ]
     },
     "execution_count": 174,
     "metadata": {},
     "output_type": "execute_result"
    }
   ],
   "source": [
    "df.shape"
   ]
  },
  {
   "cell_type": "code",
   "execution_count": 175,
   "metadata": {},
   "outputs": [
    {
     "data": {
      "text/plain": [
       "tx id         object\n",
       "time          object\n",
       "auction       object\n",
       "color         object\n",
       "shirt size    object\n",
       "condition     object\n",
       "dtype: object"
      ]
     },
     "execution_count": 175,
     "metadata": {},
     "output_type": "execute_result"
    }
   ],
   "source": [
    "df.dtypes"
   ]
  },
  {
   "cell_type": "code",
   "execution_count": 176,
   "metadata": {},
   "outputs": [
    {
     "data": {
      "text/html": [
       "<div>\n",
       "<style scoped>\n",
       "    .dataframe tbody tr th:only-of-type {\n",
       "        vertical-align: middle;\n",
       "    }\n",
       "\n",
       "    .dataframe tbody tr th {\n",
       "        vertical-align: top;\n",
       "    }\n",
       "\n",
       "    .dataframe thead th {\n",
       "        text-align: right;\n",
       "    }\n",
       "</style>\n",
       "<table border=\"1\" class=\"dataframe\">\n",
       "  <thead>\n",
       "    <tr style=\"text-align: right;\">\n",
       "      <th></th>\n",
       "      <th>tx id</th>\n",
       "      <th>time</th>\n",
       "      <th>auction</th>\n",
       "      <th>color</th>\n",
       "      <th>shirt size</th>\n",
       "      <th>condition</th>\n",
       "    </tr>\n",
       "  </thead>\n",
       "  <tbody>\n",
       "    <tr>\n",
       "      <th>0</th>\n",
       "      <td>8dbf3cfa48b25f32e300f279bb4163c67d5c60cd</td>\n",
       "      <td>3:36 PM</td>\n",
       "      <td>$17.18</td>\n",
       "      <td>Puce</td>\n",
       "      <td>S</td>\n",
       "      <td>used</td>\n",
       "    </tr>\n",
       "    <tr>\n",
       "      <th>1</th>\n",
       "      <td>8ccebfdb1a41830bdcc0e926531f3215986b3a90</td>\n",
       "      <td>9:03 AM</td>\n",
       "      <td>$15.19</td>\n",
       "      <td>Aquamarine</td>\n",
       "      <td>L</td>\n",
       "      <td>never worn</td>\n",
       "    </tr>\n",
       "    <tr>\n",
       "      <th>2</th>\n",
       "      <td>ae85a421a91cec8baf16ff1e45fb3e239130b584</td>\n",
       "      <td>7:42 PM</td>\n",
       "      <td>$7.58</td>\n",
       "      <td>Violet</td>\n",
       "      <td>L</td>\n",
       "      <td>used</td>\n",
       "    </tr>\n",
       "    <tr>\n",
       "      <th>3</th>\n",
       "      <td>85e44f09a04a79182befcfd55e288a855f633e81</td>\n",
       "      <td>10:28 PM</td>\n",
       "      <td>$9.10</td>\n",
       "      <td>Goldenrod</td>\n",
       "      <td>XS</td>\n",
       "      <td>NaN</td>\n",
       "    </tr>\n",
       "    <tr>\n",
       "      <th>4</th>\n",
       "      <td>ff750bfca4910cfa7f538fbe5463457839021680</td>\n",
       "      <td>6:38 AM</td>\n",
       "      <td>$8.22</td>\n",
       "      <td>NaN</td>\n",
       "      <td>2XL</td>\n",
       "      <td>used</td>\n",
       "    </tr>\n",
       "  </tbody>\n",
       "</table>\n",
       "</div>"
      ],
      "text/plain": [
       "                                      tx id      time auction       color  \\\n",
       "0  8dbf3cfa48b25f32e300f279bb4163c67d5c60cd   3:36 PM  $17.18        Puce   \n",
       "1  8ccebfdb1a41830bdcc0e926531f3215986b3a90   9:03 AM  $15.19  Aquamarine   \n",
       "2  ae85a421a91cec8baf16ff1e45fb3e239130b584   7:42 PM   $7.58      Violet   \n",
       "3  85e44f09a04a79182befcfd55e288a855f633e81  10:28 PM   $9.10   Goldenrod   \n",
       "4  ff750bfca4910cfa7f538fbe5463457839021680   6:38 AM   $8.22         NaN   \n",
       "\n",
       "  shirt size   condition  \n",
       "0          S        used  \n",
       "1          L  never worn  \n",
       "2          L        used  \n",
       "3         XS         NaN  \n",
       "4        2XL        used  "
      ]
     },
     "execution_count": 176,
     "metadata": {},
     "output_type": "execute_result"
    }
   ],
   "source": [
    "df.head()"
   ]
  },
  {
   "cell_type": "code",
   "execution_count": 177,
   "metadata": {},
   "outputs": [
    {
     "data": {
      "text/html": [
       "<div>\n",
       "<style scoped>\n",
       "    .dataframe tbody tr th:only-of-type {\n",
       "        vertical-align: middle;\n",
       "    }\n",
       "\n",
       "    .dataframe tbody tr th {\n",
       "        vertical-align: top;\n",
       "    }\n",
       "\n",
       "    .dataframe thead th {\n",
       "        text-align: right;\n",
       "    }\n",
       "</style>\n",
       "<table border=\"1\" class=\"dataframe\">\n",
       "  <thead>\n",
       "    <tr style=\"text-align: right;\">\n",
       "      <th></th>\n",
       "      <th>tx id</th>\n",
       "      <th>time</th>\n",
       "      <th>auction</th>\n",
       "      <th>color</th>\n",
       "      <th>shirt size</th>\n",
       "      <th>condition</th>\n",
       "    </tr>\n",
       "  </thead>\n",
       "  <tbody>\n",
       "    <tr>\n",
       "      <th>995</th>\n",
       "      <td>6fa16b110f53367cf15e6e1dcffdcb4c2653f1ab</td>\n",
       "      <td>9:56 AM</td>\n",
       "      <td>$5.79</td>\n",
       "      <td>Violet</td>\n",
       "      <td>2XL</td>\n",
       "      <td>NaN</td>\n",
       "    </tr>\n",
       "    <tr>\n",
       "      <th>996</th>\n",
       "      <td>2b7b6cbc2224502c7137262575e97a450b336fc2</td>\n",
       "      <td>11:31 AM</td>\n",
       "      <td>$14.07</td>\n",
       "      <td>Purple</td>\n",
       "      <td>S</td>\n",
       "      <td>Used</td>\n",
       "    </tr>\n",
       "    <tr>\n",
       "      <th>997</th>\n",
       "      <td>7f2a5141de8a7f752f8f98722393ffa3b0fb1e7a</td>\n",
       "      <td>6:25 AM</td>\n",
       "      <td>$17.63</td>\n",
       "      <td>Yellow</td>\n",
       "      <td>XS</td>\n",
       "      <td>used</td>\n",
       "    </tr>\n",
       "    <tr>\n",
       "      <th>998</th>\n",
       "      <td>c4549687dee4d3061fd3c82433367bea083d4d05</td>\n",
       "      <td>2:22 AM</td>\n",
       "      <td>$17.00</td>\n",
       "      <td>Yellow</td>\n",
       "      <td>L</td>\n",
       "      <td>Used</td>\n",
       "    </tr>\n",
       "    <tr>\n",
       "      <th>999</th>\n",
       "      <td>abf227d09fe37b3e333b419e0854c6c2fd1caa50</td>\n",
       "      <td>7:47 PM</td>\n",
       "      <td>$17.05</td>\n",
       "      <td>Indigo</td>\n",
       "      <td>XL</td>\n",
       "      <td>used</td>\n",
       "    </tr>\n",
       "  </tbody>\n",
       "</table>\n",
       "</div>"
      ],
      "text/plain": [
       "                                        tx id      time auction   color  \\\n",
       "995  6fa16b110f53367cf15e6e1dcffdcb4c2653f1ab   9:56 AM   $5.79  Violet   \n",
       "996  2b7b6cbc2224502c7137262575e97a450b336fc2  11:31 AM  $14.07  Purple   \n",
       "997  7f2a5141de8a7f752f8f98722393ffa3b0fb1e7a   6:25 AM  $17.63  Yellow   \n",
       "998  c4549687dee4d3061fd3c82433367bea083d4d05   2:22 AM  $17.00  Yellow   \n",
       "999  abf227d09fe37b3e333b419e0854c6c2fd1caa50   7:47 PM  $17.05  Indigo   \n",
       "\n",
       "    shirt size condition  \n",
       "995        2XL       NaN  \n",
       "996          S      Used  \n",
       "997         XS      used  \n",
       "998          L      Used  \n",
       "999         XL      used  "
      ]
     },
     "execution_count": 177,
     "metadata": {},
     "output_type": "execute_result"
    }
   ],
   "source": [
    "df.tail()"
   ]
  },
  {
   "cell_type": "code",
   "execution_count": 178,
   "metadata": {},
   "outputs": [
    {
     "data": {
      "text/plain": [
       "tx id           0\n",
       "time            0\n",
       "auction         0\n",
       "color          23\n",
       "shirt size      0\n",
       "condition     153\n",
       "dtype: int64"
      ]
     },
     "execution_count": 178,
     "metadata": {},
     "output_type": "execute_result"
    }
   ],
   "source": [
    "df.isna().sum()"
   ]
  },
  {
   "cell_type": "code",
   "execution_count": 179,
   "metadata": {},
   "outputs": [
    {
     "data": {
      "text/plain": [
       "array(['used', 'never worn', nan, 'Never Worn', 'Used'], dtype=object)"
      ]
     },
     "execution_count": 179,
     "metadata": {},
     "output_type": "execute_result"
    }
   ],
   "source": [
    "df['condition'].unique()"
   ]
  },
  {
   "cell_type": "code",
   "execution_count": 180,
   "metadata": {},
   "outputs": [],
   "source": [
    "df['devise'] = df['auction'].str[0]"
   ]
  },
  {
   "cell_type": "code",
   "execution_count": 181,
   "metadata": {},
   "outputs": [
    {
     "data": {
      "text/html": [
       "<div>\n",
       "<style scoped>\n",
       "    .dataframe tbody tr th:only-of-type {\n",
       "        vertical-align: middle;\n",
       "    }\n",
       "\n",
       "    .dataframe tbody tr th {\n",
       "        vertical-align: top;\n",
       "    }\n",
       "\n",
       "    .dataframe thead th {\n",
       "        text-align: right;\n",
       "    }\n",
       "</style>\n",
       "<table border=\"1\" class=\"dataframe\">\n",
       "  <thead>\n",
       "    <tr style=\"text-align: right;\">\n",
       "      <th></th>\n",
       "      <th>tx id</th>\n",
       "      <th>time</th>\n",
       "      <th>auction</th>\n",
       "      <th>color</th>\n",
       "      <th>shirt size</th>\n",
       "      <th>condition</th>\n",
       "      <th>devise</th>\n",
       "    </tr>\n",
       "  </thead>\n",
       "  <tbody>\n",
       "    <tr>\n",
       "      <th>0</th>\n",
       "      <td>8dbf3cfa48b25f32e300f279bb4163c67d5c60cd</td>\n",
       "      <td>3:36 PM</td>\n",
       "      <td>$17.18</td>\n",
       "      <td>Puce</td>\n",
       "      <td>S</td>\n",
       "      <td>used</td>\n",
       "      <td>$</td>\n",
       "    </tr>\n",
       "    <tr>\n",
       "      <th>1</th>\n",
       "      <td>8ccebfdb1a41830bdcc0e926531f3215986b3a90</td>\n",
       "      <td>9:03 AM</td>\n",
       "      <td>$15.19</td>\n",
       "      <td>Aquamarine</td>\n",
       "      <td>L</td>\n",
       "      <td>never worn</td>\n",
       "      <td>$</td>\n",
       "    </tr>\n",
       "    <tr>\n",
       "      <th>2</th>\n",
       "      <td>ae85a421a91cec8baf16ff1e45fb3e239130b584</td>\n",
       "      <td>7:42 PM</td>\n",
       "      <td>$7.58</td>\n",
       "      <td>Violet</td>\n",
       "      <td>L</td>\n",
       "      <td>used</td>\n",
       "      <td>$</td>\n",
       "    </tr>\n",
       "    <tr>\n",
       "      <th>3</th>\n",
       "      <td>85e44f09a04a79182befcfd55e288a855f633e81</td>\n",
       "      <td>10:28 PM</td>\n",
       "      <td>$9.10</td>\n",
       "      <td>Goldenrod</td>\n",
       "      <td>XS</td>\n",
       "      <td>NaN</td>\n",
       "      <td>$</td>\n",
       "    </tr>\n",
       "    <tr>\n",
       "      <th>4</th>\n",
       "      <td>ff750bfca4910cfa7f538fbe5463457839021680</td>\n",
       "      <td>6:38 AM</td>\n",
       "      <td>$8.22</td>\n",
       "      <td>NaN</td>\n",
       "      <td>2XL</td>\n",
       "      <td>used</td>\n",
       "      <td>$</td>\n",
       "    </tr>\n",
       "  </tbody>\n",
       "</table>\n",
       "</div>"
      ],
      "text/plain": [
       "                                      tx id      time auction       color  \\\n",
       "0  8dbf3cfa48b25f32e300f279bb4163c67d5c60cd   3:36 PM  $17.18        Puce   \n",
       "1  8ccebfdb1a41830bdcc0e926531f3215986b3a90   9:03 AM  $15.19  Aquamarine   \n",
       "2  ae85a421a91cec8baf16ff1e45fb3e239130b584   7:42 PM   $7.58      Violet   \n",
       "3  85e44f09a04a79182befcfd55e288a855f633e81  10:28 PM   $9.10   Goldenrod   \n",
       "4  ff750bfca4910cfa7f538fbe5463457839021680   6:38 AM   $8.22         NaN   \n",
       "\n",
       "  shirt size   condition devise  \n",
       "0          S        used      $  \n",
       "1          L  never worn      $  \n",
       "2          L        used      $  \n",
       "3         XS         NaN      $  \n",
       "4        2XL        used      $  "
      ]
     },
     "execution_count": 181,
     "metadata": {},
     "output_type": "execute_result"
    }
   ],
   "source": [
    "df.head()"
   ]
  },
  {
   "cell_type": "code",
   "execution_count": 182,
   "metadata": {},
   "outputs": [],
   "source": [
    "df['auction'] = df['auction'].str[1:]"
   ]
  },
  {
   "cell_type": "code",
   "execution_count": 183,
   "metadata": {},
   "outputs": [
    {
     "data": {
      "text/html": [
       "<div>\n",
       "<style scoped>\n",
       "    .dataframe tbody tr th:only-of-type {\n",
       "        vertical-align: middle;\n",
       "    }\n",
       "\n",
       "    .dataframe tbody tr th {\n",
       "        vertical-align: top;\n",
       "    }\n",
       "\n",
       "    .dataframe thead th {\n",
       "        text-align: right;\n",
       "    }\n",
       "</style>\n",
       "<table border=\"1\" class=\"dataframe\">\n",
       "  <thead>\n",
       "    <tr style=\"text-align: right;\">\n",
       "      <th></th>\n",
       "      <th>tx id</th>\n",
       "      <th>time</th>\n",
       "      <th>auction</th>\n",
       "      <th>color</th>\n",
       "      <th>shirt size</th>\n",
       "      <th>condition</th>\n",
       "      <th>devise</th>\n",
       "    </tr>\n",
       "  </thead>\n",
       "  <tbody>\n",
       "    <tr>\n",
       "      <th>0</th>\n",
       "      <td>8dbf3cfa48b25f32e300f279bb4163c67d5c60cd</td>\n",
       "      <td>3:36 PM</td>\n",
       "      <td>17.18</td>\n",
       "      <td>Puce</td>\n",
       "      <td>S</td>\n",
       "      <td>used</td>\n",
       "      <td>$</td>\n",
       "    </tr>\n",
       "    <tr>\n",
       "      <th>1</th>\n",
       "      <td>8ccebfdb1a41830bdcc0e926531f3215986b3a90</td>\n",
       "      <td>9:03 AM</td>\n",
       "      <td>15.19</td>\n",
       "      <td>Aquamarine</td>\n",
       "      <td>L</td>\n",
       "      <td>never worn</td>\n",
       "      <td>$</td>\n",
       "    </tr>\n",
       "    <tr>\n",
       "      <th>2</th>\n",
       "      <td>ae85a421a91cec8baf16ff1e45fb3e239130b584</td>\n",
       "      <td>7:42 PM</td>\n",
       "      <td>7.58</td>\n",
       "      <td>Violet</td>\n",
       "      <td>L</td>\n",
       "      <td>used</td>\n",
       "      <td>$</td>\n",
       "    </tr>\n",
       "    <tr>\n",
       "      <th>3</th>\n",
       "      <td>85e44f09a04a79182befcfd55e288a855f633e81</td>\n",
       "      <td>10:28 PM</td>\n",
       "      <td>9.10</td>\n",
       "      <td>Goldenrod</td>\n",
       "      <td>XS</td>\n",
       "      <td>NaN</td>\n",
       "      <td>$</td>\n",
       "    </tr>\n",
       "    <tr>\n",
       "      <th>4</th>\n",
       "      <td>ff750bfca4910cfa7f538fbe5463457839021680</td>\n",
       "      <td>6:38 AM</td>\n",
       "      <td>8.22</td>\n",
       "      <td>NaN</td>\n",
       "      <td>2XL</td>\n",
       "      <td>used</td>\n",
       "      <td>$</td>\n",
       "    </tr>\n",
       "  </tbody>\n",
       "</table>\n",
       "</div>"
      ],
      "text/plain": [
       "                                      tx id      time auction       color  \\\n",
       "0  8dbf3cfa48b25f32e300f279bb4163c67d5c60cd   3:36 PM   17.18        Puce   \n",
       "1  8ccebfdb1a41830bdcc0e926531f3215986b3a90   9:03 AM   15.19  Aquamarine   \n",
       "2  ae85a421a91cec8baf16ff1e45fb3e239130b584   7:42 PM    7.58      Violet   \n",
       "3  85e44f09a04a79182befcfd55e288a855f633e81  10:28 PM    9.10   Goldenrod   \n",
       "4  ff750bfca4910cfa7f538fbe5463457839021680   6:38 AM    8.22         NaN   \n",
       "\n",
       "  shirt size   condition devise  \n",
       "0          S        used      $  \n",
       "1          L  never worn      $  \n",
       "2          L        used      $  \n",
       "3         XS         NaN      $  \n",
       "4        2XL        used      $  "
      ]
     },
     "execution_count": 183,
     "metadata": {},
     "output_type": "execute_result"
    }
   ],
   "source": [
    "df.head()"
   ]
  },
  {
   "cell_type": "code",
   "execution_count": 184,
   "metadata": {},
   "outputs": [
    {
     "data": {
      "text/plain": [
       "'9.98'"
      ]
     },
     "execution_count": 184,
     "metadata": {},
     "output_type": "execute_result"
    }
   ],
   "source": [
    "df['auction'].max()"
   ]
  },
  {
   "cell_type": "code",
   "execution_count": 185,
   "metadata": {},
   "outputs": [
    {
     "data": {
      "text/plain": [
       "'10.06'"
      ]
     },
     "execution_count": 185,
     "metadata": {},
     "output_type": "execute_result"
    }
   ],
   "source": [
    "df['auction'].min()"
   ]
  },
  {
   "cell_type": "code",
   "execution_count": 186,
   "metadata": {},
   "outputs": [
    {
     "data": {
      "text/plain": [
       "tx id         object\n",
       "time          object\n",
       "auction       object\n",
       "color         object\n",
       "shirt size    object\n",
       "condition     object\n",
       "devise        object\n",
       "dtype: object"
      ]
     },
     "execution_count": 186,
     "metadata": {},
     "output_type": "execute_result"
    }
   ],
   "source": [
    "df.dtypes"
   ]
  },
  {
   "cell_type": "code",
   "execution_count": 187,
   "metadata": {},
   "outputs": [],
   "source": [
    "df['auction'] = df['auction'].astype('float')"
   ]
  },
  {
   "cell_type": "code",
   "execution_count": 188,
   "metadata": {},
   "outputs": [
    {
     "data": {
      "text/plain": [
       "count    1000.000000\n",
       "mean       10.424650\n",
       "std         4.976071\n",
       "min         2.020000\n",
       "25%         5.995000\n",
       "50%        10.330000\n",
       "75%        14.797500\n",
       "max        19.000000\n",
       "Name: auction, dtype: float64"
      ]
     },
     "execution_count": 188,
     "metadata": {},
     "output_type": "execute_result"
    }
   ],
   "source": [
    "df['auction'].describe()"
   ]
  },
  {
   "cell_type": "code",
   "execution_count": 189,
   "metadata": {},
   "outputs": [
    {
     "data": {
      "text/plain": [
       "tx id          object\n",
       "time           object\n",
       "auction       float64\n",
       "color          object\n",
       "shirt size     object\n",
       "condition      object\n",
       "devise         object\n",
       "dtype: object"
      ]
     },
     "execution_count": 189,
     "metadata": {},
     "output_type": "execute_result"
    }
   ],
   "source": [
    "df.dtypes"
   ]
  },
  {
   "cell_type": "code",
   "execution_count": null,
   "metadata": {},
   "outputs": [],
   "source": []
  },
  {
   "cell_type": "code",
   "execution_count": 190,
   "metadata": {},
   "outputs": [],
   "source": [
    "VA_NUL=0\n",
    "VA_FAIBLE=5\n",
    "VA_MOYEN=10\n",
    "VA_FORT=19\n",
    "bins=[VA_NUL,\n",
    "     VA_FAIBLE,\n",
    "     VA_MOYEN,\n",
    "     VA_FORT]"
   ]
  },
  {
   "cell_type": "code",
   "execution_count": 191,
   "metadata": {},
   "outputs": [],
   "source": [
    "panier = pd.cut(df['auction'],\n",
    "               bins=bins,\n",
    "               labels=['Valeur ajoutée faible','Valeur ajoutée moyenne','Valeur ajoutée forte'])"
   ]
  },
  {
   "cell_type": "code",
   "execution_count": 192,
   "metadata": {},
   "outputs": [],
   "source": [
    "df['panier'] = panier"
   ]
  },
  {
   "cell_type": "code",
   "execution_count": 193,
   "metadata": {},
   "outputs": [
    {
     "data": {
      "text/html": [
       "<div>\n",
       "<style scoped>\n",
       "    .dataframe tbody tr th:only-of-type {\n",
       "        vertical-align: middle;\n",
       "    }\n",
       "\n",
       "    .dataframe tbody tr th {\n",
       "        vertical-align: top;\n",
       "    }\n",
       "\n",
       "    .dataframe thead th {\n",
       "        text-align: right;\n",
       "    }\n",
       "</style>\n",
       "<table border=\"1\" class=\"dataframe\">\n",
       "  <thead>\n",
       "    <tr style=\"text-align: right;\">\n",
       "      <th></th>\n",
       "      <th>tx id</th>\n",
       "      <th>time</th>\n",
       "      <th>auction</th>\n",
       "      <th>color</th>\n",
       "      <th>shirt size</th>\n",
       "      <th>condition</th>\n",
       "      <th>devise</th>\n",
       "      <th>panier</th>\n",
       "    </tr>\n",
       "  </thead>\n",
       "  <tbody>\n",
       "    <tr>\n",
       "      <th>0</th>\n",
       "      <td>8dbf3cfa48b25f32e300f279bb4163c67d5c60cd</td>\n",
       "      <td>3:36 PM</td>\n",
       "      <td>17.18</td>\n",
       "      <td>Puce</td>\n",
       "      <td>S</td>\n",
       "      <td>used</td>\n",
       "      <td>$</td>\n",
       "      <td>Valeur ajoutée forte</td>\n",
       "    </tr>\n",
       "    <tr>\n",
       "      <th>1</th>\n",
       "      <td>8ccebfdb1a41830bdcc0e926531f3215986b3a90</td>\n",
       "      <td>9:03 AM</td>\n",
       "      <td>15.19</td>\n",
       "      <td>Aquamarine</td>\n",
       "      <td>L</td>\n",
       "      <td>never worn</td>\n",
       "      <td>$</td>\n",
       "      <td>Valeur ajoutée forte</td>\n",
       "    </tr>\n",
       "    <tr>\n",
       "      <th>2</th>\n",
       "      <td>ae85a421a91cec8baf16ff1e45fb3e239130b584</td>\n",
       "      <td>7:42 PM</td>\n",
       "      <td>7.58</td>\n",
       "      <td>Violet</td>\n",
       "      <td>L</td>\n",
       "      <td>used</td>\n",
       "      <td>$</td>\n",
       "      <td>Valeur ajoutée moyenne</td>\n",
       "    </tr>\n",
       "    <tr>\n",
       "      <th>3</th>\n",
       "      <td>85e44f09a04a79182befcfd55e288a855f633e81</td>\n",
       "      <td>10:28 PM</td>\n",
       "      <td>9.10</td>\n",
       "      <td>Goldenrod</td>\n",
       "      <td>XS</td>\n",
       "      <td>NaN</td>\n",
       "      <td>$</td>\n",
       "      <td>Valeur ajoutée moyenne</td>\n",
       "    </tr>\n",
       "    <tr>\n",
       "      <th>4</th>\n",
       "      <td>ff750bfca4910cfa7f538fbe5463457839021680</td>\n",
       "      <td>6:38 AM</td>\n",
       "      <td>8.22</td>\n",
       "      <td>NaN</td>\n",
       "      <td>2XL</td>\n",
       "      <td>used</td>\n",
       "      <td>$</td>\n",
       "      <td>Valeur ajoutée moyenne</td>\n",
       "    </tr>\n",
       "  </tbody>\n",
       "</table>\n",
       "</div>"
      ],
      "text/plain": [
       "                                      tx id      time  auction       color  \\\n",
       "0  8dbf3cfa48b25f32e300f279bb4163c67d5c60cd   3:36 PM    17.18        Puce   \n",
       "1  8ccebfdb1a41830bdcc0e926531f3215986b3a90   9:03 AM    15.19  Aquamarine   \n",
       "2  ae85a421a91cec8baf16ff1e45fb3e239130b584   7:42 PM     7.58      Violet   \n",
       "3  85e44f09a04a79182befcfd55e288a855f633e81  10:28 PM     9.10   Goldenrod   \n",
       "4  ff750bfca4910cfa7f538fbe5463457839021680   6:38 AM     8.22         NaN   \n",
       "\n",
       "  shirt size   condition devise                  panier  \n",
       "0          S        used      $    Valeur ajoutée forte  \n",
       "1          L  never worn      $    Valeur ajoutée forte  \n",
       "2          L        used      $  Valeur ajoutée moyenne  \n",
       "3         XS         NaN      $  Valeur ajoutée moyenne  \n",
       "4        2XL        used      $  Valeur ajoutée moyenne  "
      ]
     },
     "execution_count": 193,
     "metadata": {},
     "output_type": "execute_result"
    }
   ],
   "source": [
    "df.head()"
   ]
  },
  {
   "cell_type": "code",
   "execution_count": 194,
   "metadata": {
    "scrolled": false
   },
   "outputs": [
    {
     "data": {
      "text/html": [
       "<div>\n",
       "<style scoped>\n",
       "    .dataframe tbody tr th:only-of-type {\n",
       "        vertical-align: middle;\n",
       "    }\n",
       "\n",
       "    .dataframe tbody tr th {\n",
       "        vertical-align: top;\n",
       "    }\n",
       "\n",
       "    .dataframe thead th {\n",
       "        text-align: right;\n",
       "    }\n",
       "</style>\n",
       "<table border=\"1\" class=\"dataframe\">\n",
       "  <thead>\n",
       "    <tr style=\"text-align: right;\">\n",
       "      <th></th>\n",
       "      <th>tx id</th>\n",
       "      <th>time</th>\n",
       "      <th>auction</th>\n",
       "      <th>color</th>\n",
       "      <th>shirt size</th>\n",
       "      <th>condition</th>\n",
       "      <th>devise</th>\n",
       "      <th>panier</th>\n",
       "    </tr>\n",
       "  </thead>\n",
       "  <tbody>\n",
       "    <tr>\n",
       "      <th>995</th>\n",
       "      <td>6fa16b110f53367cf15e6e1dcffdcb4c2653f1ab</td>\n",
       "      <td>9:56 AM</td>\n",
       "      <td>5.79</td>\n",
       "      <td>Violet</td>\n",
       "      <td>2XL</td>\n",
       "      <td>NaN</td>\n",
       "      <td>$</td>\n",
       "      <td>Valeur ajoutée moyenne</td>\n",
       "    </tr>\n",
       "    <tr>\n",
       "      <th>996</th>\n",
       "      <td>2b7b6cbc2224502c7137262575e97a450b336fc2</td>\n",
       "      <td>11:31 AM</td>\n",
       "      <td>14.07</td>\n",
       "      <td>Purple</td>\n",
       "      <td>S</td>\n",
       "      <td>Used</td>\n",
       "      <td>$</td>\n",
       "      <td>Valeur ajoutée forte</td>\n",
       "    </tr>\n",
       "    <tr>\n",
       "      <th>997</th>\n",
       "      <td>7f2a5141de8a7f752f8f98722393ffa3b0fb1e7a</td>\n",
       "      <td>6:25 AM</td>\n",
       "      <td>17.63</td>\n",
       "      <td>Yellow</td>\n",
       "      <td>XS</td>\n",
       "      <td>used</td>\n",
       "      <td>$</td>\n",
       "      <td>Valeur ajoutée forte</td>\n",
       "    </tr>\n",
       "    <tr>\n",
       "      <th>998</th>\n",
       "      <td>c4549687dee4d3061fd3c82433367bea083d4d05</td>\n",
       "      <td>2:22 AM</td>\n",
       "      <td>17.00</td>\n",
       "      <td>Yellow</td>\n",
       "      <td>L</td>\n",
       "      <td>Used</td>\n",
       "      <td>$</td>\n",
       "      <td>Valeur ajoutée forte</td>\n",
       "    </tr>\n",
       "    <tr>\n",
       "      <th>999</th>\n",
       "      <td>abf227d09fe37b3e333b419e0854c6c2fd1caa50</td>\n",
       "      <td>7:47 PM</td>\n",
       "      <td>17.05</td>\n",
       "      <td>Indigo</td>\n",
       "      <td>XL</td>\n",
       "      <td>used</td>\n",
       "      <td>$</td>\n",
       "      <td>Valeur ajoutée forte</td>\n",
       "    </tr>\n",
       "  </tbody>\n",
       "</table>\n",
       "</div>"
      ],
      "text/plain": [
       "                                        tx id      time  auction   color  \\\n",
       "995  6fa16b110f53367cf15e6e1dcffdcb4c2653f1ab   9:56 AM     5.79  Violet   \n",
       "996  2b7b6cbc2224502c7137262575e97a450b336fc2  11:31 AM    14.07  Purple   \n",
       "997  7f2a5141de8a7f752f8f98722393ffa3b0fb1e7a   6:25 AM    17.63  Yellow   \n",
       "998  c4549687dee4d3061fd3c82433367bea083d4d05   2:22 AM    17.00  Yellow   \n",
       "999  abf227d09fe37b3e333b419e0854c6c2fd1caa50   7:47 PM    17.05  Indigo   \n",
       "\n",
       "    shirt size condition devise                  panier  \n",
       "995        2XL       NaN      $  Valeur ajoutée moyenne  \n",
       "996          S      Used      $    Valeur ajoutée forte  \n",
       "997         XS      used      $    Valeur ajoutée forte  \n",
       "998          L      Used      $    Valeur ajoutée forte  \n",
       "999         XL      used      $    Valeur ajoutée forte  "
      ]
     },
     "execution_count": 194,
     "metadata": {},
     "output_type": "execute_result"
    }
   ],
   "source": [
    "df.tail()"
   ]
  },
  {
   "cell_type": "code",
   "execution_count": 201,
   "metadata": {},
   "outputs": [],
   "source": [
    "df['time'] = pd.to_datetime(df['time']).dt.strftime('%H:%M')"
   ]
  },
  {
   "cell_type": "code",
   "execution_count": 202,
   "metadata": {
    "scrolled": false
   },
   "outputs": [
    {
     "data": {
      "text/html": [
       "<div>\n",
       "<style scoped>\n",
       "    .dataframe tbody tr th:only-of-type {\n",
       "        vertical-align: middle;\n",
       "    }\n",
       "\n",
       "    .dataframe tbody tr th {\n",
       "        vertical-align: top;\n",
       "    }\n",
       "\n",
       "    .dataframe thead th {\n",
       "        text-align: right;\n",
       "    }\n",
       "</style>\n",
       "<table border=\"1\" class=\"dataframe\">\n",
       "  <thead>\n",
       "    <tr style=\"text-align: right;\">\n",
       "      <th></th>\n",
       "      <th>tx id</th>\n",
       "      <th>time</th>\n",
       "      <th>auction</th>\n",
       "      <th>color</th>\n",
       "      <th>shirt size</th>\n",
       "      <th>condition</th>\n",
       "      <th>devise</th>\n",
       "      <th>panier</th>\n",
       "    </tr>\n",
       "  </thead>\n",
       "  <tbody>\n",
       "    <tr>\n",
       "      <th>0</th>\n",
       "      <td>8dbf3cfa48b25f32e300f279bb4163c67d5c60cd</td>\n",
       "      <td>15:36</td>\n",
       "      <td>17.18</td>\n",
       "      <td>Puce</td>\n",
       "      <td>S</td>\n",
       "      <td>used</td>\n",
       "      <td>$</td>\n",
       "      <td>Valeur ajoutée forte</td>\n",
       "    </tr>\n",
       "    <tr>\n",
       "      <th>1</th>\n",
       "      <td>8ccebfdb1a41830bdcc0e926531f3215986b3a90</td>\n",
       "      <td>09:03</td>\n",
       "      <td>15.19</td>\n",
       "      <td>Aquamarine</td>\n",
       "      <td>L</td>\n",
       "      <td>never worn</td>\n",
       "      <td>$</td>\n",
       "      <td>Valeur ajoutée forte</td>\n",
       "    </tr>\n",
       "    <tr>\n",
       "      <th>2</th>\n",
       "      <td>ae85a421a91cec8baf16ff1e45fb3e239130b584</td>\n",
       "      <td>19:42</td>\n",
       "      <td>7.58</td>\n",
       "      <td>Violet</td>\n",
       "      <td>L</td>\n",
       "      <td>used</td>\n",
       "      <td>$</td>\n",
       "      <td>Valeur ajoutée moyenne</td>\n",
       "    </tr>\n",
       "    <tr>\n",
       "      <th>3</th>\n",
       "      <td>85e44f09a04a79182befcfd55e288a855f633e81</td>\n",
       "      <td>22:28</td>\n",
       "      <td>9.10</td>\n",
       "      <td>Goldenrod</td>\n",
       "      <td>XS</td>\n",
       "      <td>NaN</td>\n",
       "      <td>$</td>\n",
       "      <td>Valeur ajoutée moyenne</td>\n",
       "    </tr>\n",
       "    <tr>\n",
       "      <th>4</th>\n",
       "      <td>ff750bfca4910cfa7f538fbe5463457839021680</td>\n",
       "      <td>06:38</td>\n",
       "      <td>8.22</td>\n",
       "      <td>NaN</td>\n",
       "      <td>2XL</td>\n",
       "      <td>used</td>\n",
       "      <td>$</td>\n",
       "      <td>Valeur ajoutée moyenne</td>\n",
       "    </tr>\n",
       "  </tbody>\n",
       "</table>\n",
       "</div>"
      ],
      "text/plain": [
       "                                      tx id   time  auction       color  \\\n",
       "0  8dbf3cfa48b25f32e300f279bb4163c67d5c60cd  15:36    17.18        Puce   \n",
       "1  8ccebfdb1a41830bdcc0e926531f3215986b3a90  09:03    15.19  Aquamarine   \n",
       "2  ae85a421a91cec8baf16ff1e45fb3e239130b584  19:42     7.58      Violet   \n",
       "3  85e44f09a04a79182befcfd55e288a855f633e81  22:28     9.10   Goldenrod   \n",
       "4  ff750bfca4910cfa7f538fbe5463457839021680  06:38     8.22         NaN   \n",
       "\n",
       "  shirt size   condition devise                  panier  \n",
       "0          S        used      $    Valeur ajoutée forte  \n",
       "1          L  never worn      $    Valeur ajoutée forte  \n",
       "2          L        used      $  Valeur ajoutée moyenne  \n",
       "3         XS         NaN      $  Valeur ajoutée moyenne  \n",
       "4        2XL        used      $  Valeur ajoutée moyenne  "
      ]
     },
     "execution_count": 202,
     "metadata": {},
     "output_type": "execute_result"
    }
   ],
   "source": [
    "df.head()"
   ]
  },
  {
   "cell_type": "code",
   "execution_count": 206,
   "metadata": {},
   "outputs": [],
   "source": [
    "df['time'] = pd.to_datetime(df['time'])"
   ]
  },
  {
   "cell_type": "code",
   "execution_count": 207,
   "metadata": {},
   "outputs": [
    {
     "data": {
      "text/plain": [
       "tx id                 object\n",
       "time          datetime64[ns]\n",
       "auction              float64\n",
       "color                 object\n",
       "shirt size            object\n",
       "condition             object\n",
       "devise                object\n",
       "panier              category\n",
       "dtype: object"
      ]
     },
     "execution_count": 207,
     "metadata": {},
     "output_type": "execute_result"
    }
   ],
   "source": [
    "df.dtypes"
   ]
  },
  {
   "cell_type": "code",
   "execution_count": 209,
   "metadata": {
    "scrolled": false
   },
   "outputs": [
    {
     "data": {
      "text/plain": [
       "0      1536\n",
       "1       903\n",
       "2      1942\n",
       "3      2228\n",
       "4       638\n",
       "       ... \n",
       "995     956\n",
       "996    1131\n",
       "997     625\n",
       "998     222\n",
       "999    1947\n",
       "Name: time, Length: 1000, dtype: int64"
      ]
     },
     "execution_count": 209,
     "metadata": {},
     "output_type": "execute_result"
    }
   ],
   "source": [
    "colonne_temporaire = df['time'].dt.hour * 100 + df['time'].dt.minute\n",
    "colonne_temporaire"
   ]
  },
  {
   "cell_type": "code",
   "execution_count": 213,
   "metadata": {},
   "outputs": [],
   "source": [
    "DEBUT_JOURNEE=0\n",
    "AVANT_MATIN=800\n",
    "AVANT_MANGER=1130\n",
    "MANGER=1500\n",
    "AVANT_SOIREE=2000\n",
    "SOIREE=2359\n",
    "bins=[DEBUT_JOURNEE,\n",
    "     AVANT_MATIN,\n",
    "     AVANT_MANGER,\n",
    "     MANGER,\n",
    "     AVANT_SOIREE,\n",
    "     SOIREE]"
   ]
  },
  {
   "cell_type": "code",
   "execution_count": 218,
   "metadata": {},
   "outputs": [
    {
     "data": {
      "text/plain": [
       "0      APRES MIDI\n",
       "1           MATIN\n",
       "2      APRES MIDI\n",
       "3          SOIREE\n",
       "4            NUIT\n",
       "          ...    \n",
       "995         MATIN\n",
       "996          MIDI\n",
       "997          NUIT\n",
       "998          NUIT\n",
       "999    APRES MIDI\n",
       "Name: time, Length: 1000, dtype: category\n",
       "Categories (5, object): ['NUIT' < 'MATIN' < 'MIDI' < 'APRES MIDI' < 'SOIREE']"
      ]
     },
     "execution_count": 218,
     "metadata": {},
     "output_type": "execute_result"
    }
   ],
   "source": [
    "creneau = pd.cut(colonne_temporaire,\n",
    "      bins=bins,\n",
    "      labels=[\"NUIT\",\"MATIN\",\"MIDI\",\"APRES MIDI\",\"SOIREE\"])\n",
    "creneau"
   ]
  },
  {
   "cell_type": "code",
   "execution_count": null,
   "metadata": {},
   "outputs": [],
   "source": []
  }
 ],
 "metadata": {
  "kernelspec": {
   "display_name": "Python 3",
   "language": "python",
   "name": "python3"
  },
  "language_info": {
   "codemirror_mode": {
    "name": "ipython",
    "version": 3
   },
   "file_extension": ".py",
   "mimetype": "text/x-python",
   "name": "python",
   "nbconvert_exporter": "python",
   "pygments_lexer": "ipython3",
   "version": "3.8.5"
  }
 },
 "nbformat": 4,
 "nbformat_minor": 4
}
