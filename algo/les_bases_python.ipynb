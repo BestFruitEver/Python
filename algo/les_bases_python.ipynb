{
 "cells": [
  {
   "cell_type": "markdown",
   "metadata": {},
   "source": [
    "# Exercices"
   ]
  },
  {
   "cell_type": "code",
   "execution_count": 4,
   "metadata": {},
   "outputs": [],
   "source": [
    "def carre(x:float) :\n",
    "    \"\"\"\n",
    "        Function to calculate the square of a float value\n",
    "    \"\"\"\n",
    "    return x**2"
   ]
  },
  {
   "cell_type": "code",
   "execution_count": 3,
   "metadata": {},
   "outputs": [],
   "source": [
    "c = carre(5)"
   ]
  },
  {
   "cell_type": "markdown",
   "metadata": {},
   "source": [
    "## Tableaux"
   ]
  },
  {
   "cell_type": "markdown",
   "metadata": {},
   "source": [
    "### 2.1 la somme"
   ]
  },
  {
   "cell_type": "code",
   "execution_count": 2,
   "metadata": {},
   "outputs": [],
   "source": [
    "liste = [1,3,5]"
   ]
  },
  {
   "cell_type": "code",
   "execution_count": 3,
   "metadata": {},
   "outputs": [
    {
     "data": {
      "text/plain": [
       "9"
      ]
     },
     "execution_count": 3,
     "metadata": {},
     "output_type": "execute_result"
    }
   ],
   "source": [
    "sum(liste)"
   ]
  },
  {
   "cell_type": "markdown",
   "metadata": {},
   "source": [
    "### 2.1 la somme (2ème façon)"
   ]
  },
  {
   "cell_type": "code",
   "execution_count": 15,
   "metadata": {},
   "outputs": [
    {
     "name": "stdout",
     "output_type": "stream",
     "text": [
      "45\n"
     ]
    }
   ],
   "source": [
    "a=0\n",
    "tab= [i for i in range(10)]\n",
    "for i in range(len(tab)):\n",
    "    a+=tab[i]\n",
    "print(a)"
   ]
  },
  {
   "cell_type": "markdown",
   "metadata": {},
   "source": [
    "### 2.2 la somme : retour"
   ]
  },
  {
   "cell_type": "markdown",
   "metadata": {},
   "source": [
    "#### Cette méthode ne fonctionne pas"
   ]
  },
  {
   "cell_type": "markdown",
   "metadata": {},
   "source": [
    "liste1 = [2,3]"
   ]
  },
  {
   "cell_type": "code",
   "execution_count": 5,
   "metadata": {},
   "outputs": [],
   "source": [
    "liste2 = [3,4]"
   ]
  },
  {
   "cell_type": "code",
   "execution_count": 23,
   "metadata": {},
   "outputs": [],
   "source": [
    "liste3 = [sum(liste1+liste2)]"
   ]
  },
  {
   "cell_type": "code",
   "execution_count": 24,
   "metadata": {},
   "outputs": [
    {
     "name": "stdout",
     "output_type": "stream",
     "text": [
      "[12]\n"
     ]
    }
   ],
   "source": [
    "print(liste3)"
   ]
  },
  {
   "cell_type": "markdown",
   "metadata": {},
   "source": [
    "### 2.2 la somme : retour (correction)"
   ]
  },
  {
   "cell_type": "code",
   "execution_count": 25,
   "metadata": {},
   "outputs": [
    {
     "name": "stdout",
     "output_type": "stream",
     "text": [
      "[3, 5, 6, 8, 10]\n"
     ]
    }
   ],
   "source": [
    "tab1=[1,2,3,4,5]\n",
    "tab2=[2,3,3,4,5]\n",
    "tab3=[0,0,0,0,0]\n",
    "for i in range(len(tab3)):\n",
    "    tab3[i]=(tab1[i]+tab2[i])\n",
    "print(tab3)"
   ]
  },
  {
   "cell_type": "markdown",
   "metadata": {},
   "source": [
    "### 2.2 la somme : retour (correction 2)"
   ]
  },
  {
   "cell_type": "code",
   "execution_count": 17,
   "metadata": {},
   "outputs": [
    {
     "name": "stdout",
     "output_type": "stream",
     "text": [
      "[5, 7, 9]\n"
     ]
    }
   ],
   "source": [
    "tab1 = [1,2,3]\n",
    "tab2 = [4,5,6]\n",
    "tab3 = []\n",
    "for i in tab1:\n",
    "    tab3.append(tab1[i-1] + tab2[i-1])\n",
    "print(tab3)"
   ]
  },
  {
   "cell_type": "markdown",
   "metadata": {},
   "source": [
    "### 2.2 la somme : retour (correction3 (meilleur))"
   ]
  },
  {
   "cell_type": "code",
   "execution_count": 18,
   "metadata": {},
   "outputs": [
    {
     "data": {
      "text/plain": [
       "[11, 34, 52, 92, 11, 9, 109]"
      ]
     },
     "execution_count": 18,
     "metadata": {},
     "output_type": "execute_result"
    }
   ],
   "source": [
    "T,U = [0,2,7,3,1,8,100],[11,32,45,89,10,1,9]\n",
    "[T[i]+U[i] for i in range(len(T))]"
   ]
  },
  {
   "cell_type": "markdown",
   "metadata": {},
   "source": [
    "### 2.3 FacProduct"
   ]
  },
  {
   "cell_type": "code",
   "execution_count": 45,
   "metadata": {},
   "outputs": [],
   "source": [
    "def fact(A:list, B:list) -> float :\n",
    "    C = [A[i]*B[i]for i in range(len(A))]\n",
    "    print(C)\n",
    "    return [sum(C)]"
   ]
  },
  {
   "cell_type": "code",
   "execution_count": 47,
   "metadata": {},
   "outputs": [
    {
     "name": "stdout",
     "output_type": "stream",
     "text": [
      "[15, 30, 6]\n"
     ]
    },
    {
     "data": {
      "text/plain": [
       "[51]"
      ]
     },
     "execution_count": 47,
     "metadata": {},
     "output_type": "execute_result"
    }
   ],
   "source": [
    "fact(A=[3,5,6],B=[5,6,1])"
   ]
  },
  {
   "cell_type": "markdown",
   "metadata": {},
   "source": [
    "### 2.4 Le plus grand"
   ]
  },
  {
   "cell_type": "code",
   "execution_count": 3,
   "metadata": {},
   "outputs": [],
   "source": [
    "def higher(A:list) -> float :\n",
    "    B=A[0]\n",
    "    for j in range(len(A)):\n",
    "        if (A[j]>B):\n",
    "            B=A[j]\n",
    "    return B,j"
   ]
  },
  {
   "cell_type": "code",
   "execution_count": 4,
   "metadata": {},
   "outputs": [
    {
     "data": {
      "text/plain": [
       "(92, 7)"
      ]
     },
     "execution_count": 4,
     "metadata": {},
     "output_type": "execute_result"
    }
   ],
   "source": [
    "higher(A=[18,29,59,75,92,20,47,51])"
   ]
  },
  {
   "cell_type": "markdown",
   "metadata": {},
   "source": [
    "### 2.4 le plus grand (correction)"
   ]
  },
  {
   "cell_type": "code",
   "execution_count": null,
   "metadata": {},
   "outputs": [],
   "source": [
    "def grand(taille: int,*nb: float)->float:\n",
    "    g=0\n",
    "    if(taille==len(nb)):\n",
    "        for i in range (0,taille):\n",
    "            if(g<nb[i]):\n",
    "                g=nb[i]\n",
    "        return g,i\n",
    "    else : print(\"Taille differente du nombre d'arguments\")"
   ]
  },
  {
   "cell_type": "code",
   "execution_count": null,
   "metadata": {},
   "outputs": [],
   "source": []
  },
  {
   "cell_type": "markdown",
   "metadata": {},
   "source": [
    "### 2.4 le plus grand (correction2)"
   ]
  },
  {
   "cell_type": "code",
   "execution_count": null,
   "metadata": {},
   "outputs": [],
   "source": [
    "nb = int(input(\"Saisir taille de tableau :\"))\n",
    "i=0\n",
    "tab=[x for x in range(nb)]\n",
    "while(i!=(nb)):\n",
    "    tab[i]=float(input(\"Value put in :\"))\n",
    "    i+=1  \n",
    "def biggest(numbers:list)->float:\n",
    "    largest=numbers[0]\n",
    "    for i in range(1,nb):\n",
    "        if (largest<numbers[i]):\n",
    "            largest=numbers[i]\n",
    "    return largest\n",
    "print(\" Max Value : \",biggest(tab) )"
   ]
  },
  {
   "cell_type": "markdown",
   "metadata": {},
   "source": [
    "### 2.4 le plus grand (correction3)"
   ]
  },
  {
   "cell_type": "code",
   "execution_count": null,
   "metadata": {},
   "outputs": [],
   "source": [
    "def getMax() -> float : \n",
    "    a = int(input(\"Entrer un nombre : \"))\n",
    "    b = int(input(\"Entrer un nombre : \"))\n",
    "    c = int(input(\"Entrer un nombre : \"))\n",
    "    tab = [a,b,c]\n",
    "    maxi =tab[0]\n",
    "    for i in range(len(tab)-1) :\n",
    "        if tab[i+1] > maxi:\n",
    "            maxi = tab[i+1]\n",
    "    return maxi\n",
    "print(\"Maximum : {0}\".format(getMax()))"
   ]
  },
  {
   "cell_type": "markdown",
   "metadata": {},
   "source": [
    "## Math"
   ]
  },
  {
   "cell_type": "markdown",
   "metadata": {},
   "source": [
    "### le temps d'arrêt"
   ]
  },
  {
   "cell_type": "markdown",
   "metadata": {},
   "source": [
    "### Formule : Cij = SOMME n, k=0 * Aik * Bkj"
   ]
  },
  {
   "cell_type": "code",
   "execution_count": null,
   "metadata": {},
   "outputs": [],
   "source": [
    "def temps_arret(A:list,B:list) -> float :\n",
    "    for i in range(len(A)):\n",
    "        for j un range(len(B)):\n",
    "            C=A[i]*B[i]\n",
    "            "
   ]
  },
  {
   "cell_type": "markdown",
   "metadata": {},
   "source": [
    "### Produit matriciel"
   ]
  },
  {
   "cell_type": "code",
   "execution_count": 5,
   "metadata": {},
   "outputs": [],
   "source": [
    "def produit(A:list,B:list):\n",
    "    C=[[0,0,0],[0,0,0],[0,0,0]]\n",
    "    for j in range(0,len(B)):\n",
    "        for i in range(0,len(A)):\n",
    "            for k in range(0,len(A)):\n",
    "                C[i][j]+=A[i][k]*B[k][j]\n",
    "    return C"
   ]
  },
  {
   "cell_type": "code",
   "execution_count": 8,
   "metadata": {},
   "outputs": [
    {
     "data": {
      "text/plain": [
       "[[6, 6, 11], [4, 7, 9], [6, 6, 11]]"
      ]
     },
     "execution_count": 8,
     "metadata": {},
     "output_type": "execute_result"
    }
   ],
   "source": [
    "produit([[1,5,6],[2,5,4],[1,5,6]],[[0,1,0],[0,1,1],[1,0,1]])"
   ]
  },
  {
   "cell_type": "code",
   "execution_count": null,
   "metadata": {},
   "outputs": [],
   "source": []
  }
 ],
 "metadata": {
  "kernelspec": {
   "display_name": "Python 3",
   "language": "python",
   "name": "python3"
  },
  "language_info": {
   "codemirror_mode": {
    "name": "ipython",
    "version": 3
   },
   "file_extension": ".py",
   "mimetype": "text/x-python",
   "name": "python",
   "nbconvert_exporter": "python",
   "pygments_lexer": "ipython3",
   "version": "3.8.5"
  }
 },
 "nbformat": 4,
 "nbformat_minor": 4
}
